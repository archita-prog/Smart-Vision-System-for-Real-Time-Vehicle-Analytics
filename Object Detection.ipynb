{
 "cells": [
  {
   "cell_type": "code",
   "execution_count": 1,
   "id": "2c780ad0",
   "metadata": {},
   "outputs": [
    {
     "name": "stdout",
     "output_type": "stream",
     "text": [
      "Requirement already satisfied: ultralytics in c:\\users\\archita shrivastava\\anaconda3\\lib\\site-packages (8.3.140)\n",
      "Requirement already satisfied: pandas>=1.1.4 in c:\\users\\archita shrivastava\\anaconda3\\lib\\site-packages (from ultralytics) (1.5.3)\n",
      "Requirement already satisfied: pillow>=7.1.2 in c:\\users\\archita shrivastava\\anaconda3\\lib\\site-packages (from ultralytics) (9.4.0)\n",
      "Requirement already satisfied: requests>=2.23.0 in c:\\users\\archita shrivastava\\anaconda3\\lib\\site-packages (from ultralytics) (2.28.1)\n",
      "Requirement already satisfied: numpy>=1.23.0 in c:\\users\\archita shrivastava\\anaconda3\\lib\\site-packages (from ultralytics) (1.24.4)\n",
      "Requirement already satisfied: ultralytics-thop>=2.0.0 in c:\\users\\archita shrivastava\\anaconda3\\lib\\site-packages (from ultralytics) (2.0.14)\n",
      "Requirement already satisfied: matplotlib>=3.3.0 in c:\\users\\archita shrivastava\\anaconda3\\lib\\site-packages (from ultralytics) (3.10.0)\n",
      "Requirement already satisfied: torchvision>=0.9.0 in c:\\users\\archita shrivastava\\anaconda3\\lib\\site-packages (from ultralytics) (0.22.0)\n",
      "Requirement already satisfied: torch!=2.4.0,>=1.8.0 in c:\\users\\archita shrivastava\\anaconda3\\lib\\site-packages (from ultralytics) (2.7.0)\n",
      "Requirement already satisfied: pyyaml>=5.3.1 in c:\\users\\archita shrivastava\\anaconda3\\lib\\site-packages (from ultralytics) (6.0)\n",
      "Requirement already satisfied: scipy>=1.4.1 in c:\\users\\archita shrivastava\\anaconda3\\lib\\site-packages (from ultralytics) (1.10.1)\n",
      "Requirement already satisfied: py-cpuinfo in c:\\users\\archita shrivastava\\anaconda3\\lib\\site-packages (from ultralytics) (9.0.0)\n",
      "Requirement already satisfied: psutil in c:\\users\\archita shrivastava\\anaconda3\\lib\\site-packages (from ultralytics) (5.9.0)\n",
      "Requirement already satisfied: tqdm>=4.64.0 in c:\\users\\archita shrivastava\\anaconda3\\lib\\site-packages (from ultralytics) (4.64.1)\n",
      "Requirement already satisfied: opencv-python>=4.6.0 in c:\\users\\archita shrivastava\\anaconda3\\lib\\site-packages (from ultralytics) (4.11.0.86)\n",
      "Requirement already satisfied: pyparsing>=2.3.1 in c:\\users\\archita shrivastava\\anaconda3\\lib\\site-packages (from matplotlib>=3.3.0->ultralytics) (3.0.9)\n",
      "Requirement already satisfied: cycler>=0.10 in c:\\users\\archita shrivastava\\anaconda3\\lib\\site-packages (from matplotlib>=3.3.0->ultralytics) (0.11.0)\n",
      "Requirement already satisfied: kiwisolver>=1.3.1 in c:\\users\\archita shrivastava\\anaconda3\\lib\\site-packages (from matplotlib>=3.3.0->ultralytics) (1.4.4)\n",
      "Requirement already satisfied: contourpy>=1.0.1 in c:\\users\\archita shrivastava\\anaconda3\\lib\\site-packages (from matplotlib>=3.3.0->ultralytics) (1.0.5)\n",
      "Requirement already satisfied: fonttools>=4.22.0 in c:\\users\\archita shrivastava\\anaconda3\\lib\\site-packages (from matplotlib>=3.3.0->ultralytics) (4.25.0)\n",
      "Requirement already satisfied: packaging>=20.0 in c:\\users\\archita shrivastava\\anaconda3\\lib\\site-packages (from matplotlib>=3.3.0->ultralytics) (22.0)\n",
      "Requirement already satisfied: python-dateutil>=2.7 in c:\\users\\archita shrivastava\\anaconda3\\lib\\site-packages (from matplotlib>=3.3.0->ultralytics) (2.8.2)\n",
      "Requirement already satisfied: pytz>=2020.1 in c:\\users\\archita shrivastava\\anaconda3\\lib\\site-packages (from pandas>=1.1.4->ultralytics) (2022.7)\n",
      "Requirement already satisfied: certifi>=2017.4.17 in c:\\users\\archita shrivastava\\anaconda3\\lib\\site-packages (from requests>=2.23.0->ultralytics) (2022.12.7)\n",
      "Requirement already satisfied: idna<4,>=2.5 in c:\\users\\archita shrivastava\\anaconda3\\lib\\site-packages (from requests>=2.23.0->ultralytics) (3.4)\n",
      "Requirement already satisfied: charset-normalizer<3,>=2 in c:\\users\\archita shrivastava\\anaconda3\\lib\\site-packages (from requests>=2.23.0->ultralytics) (2.0.4)\n",
      "Requirement already satisfied: urllib3<1.27,>=1.21.1 in c:\\users\\archita shrivastava\\anaconda3\\lib\\site-packages (from requests>=2.23.0->ultralytics) (1.26.14)\n",
      "Requirement already satisfied: sympy>=1.13.3 in c:\\users\\archita shrivastava\\anaconda3\\lib\\site-packages (from torch!=2.4.0,>=1.8.0->ultralytics) (1.14.0)\n",
      "Requirement already satisfied: typing-extensions>=4.10.0 in c:\\users\\archita shrivastava\\anaconda3\\lib\\site-packages (from torch!=2.4.0,>=1.8.0->ultralytics) (4.12.2)\n",
      "Requirement already satisfied: jinja2 in c:\\users\\archita shrivastava\\anaconda3\\lib\\site-packages (from torch!=2.4.0,>=1.8.0->ultralytics) (3.1.2)\n",
      "Requirement already satisfied: networkx in c:\\users\\archita shrivastava\\anaconda3\\lib\\site-packages (from torch!=2.4.0,>=1.8.0->ultralytics) (2.8.4)\n",
      "Requirement already satisfied: fsspec in c:\\users\\archita shrivastava\\anaconda3\\lib\\site-packages (from torch!=2.4.0,>=1.8.0->ultralytics) (2022.11.0)\n",
      "Requirement already satisfied: filelock in c:\\users\\archita shrivastava\\anaconda3\\lib\\site-packages (from torch!=2.4.0,>=1.8.0->ultralytics) (3.9.0)\n",
      "Requirement already satisfied: colorama in c:\\users\\archita shrivastava\\anaconda3\\lib\\site-packages (from tqdm>=4.64.0->ultralytics) (0.4.6)\n",
      "Requirement already satisfied: six>=1.5 in c:\\users\\archita shrivastava\\anaconda3\\lib\\site-packages (from python-dateutil>=2.7->matplotlib>=3.3.0->ultralytics) (1.16.0)\n",
      "Requirement already satisfied: mpmath<1.4,>=1.1.0 in c:\\users\\archita shrivastava\\anaconda3\\lib\\site-packages (from sympy>=1.13.3->torch!=2.4.0,>=1.8.0->ultralytics) (1.2.1)\n",
      "Requirement already satisfied: MarkupSafe>=2.0 in c:\\users\\archita shrivastava\\anaconda3\\lib\\site-packages (from jinja2->torch!=2.4.0,>=1.8.0->ultralytics) (2.1.1)\n",
      "Note: you may need to restart the kernel to use updated packages.\n"
     ]
    },
    {
     "name": "stderr",
     "output_type": "stream",
     "text": [
      "WARNING: Ignoring invalid distribution -rotobuf (c:\\users\\archita shrivastava\\anaconda3\\lib\\site-packages)\n",
      "WARNING: Ignoring invalid distribution -andas (c:\\users\\archita shrivastava\\anaconda3\\lib\\site-packages)\n",
      "WARNING: Ignoring invalid distribution -rotobuf (c:\\users\\archita shrivastava\\anaconda3\\lib\\site-packages)\n",
      "WARNING: Ignoring invalid distribution -andas (c:\\users\\archita shrivastava\\anaconda3\\lib\\site-packages)\n",
      "WARNING: Ignoring invalid distribution -rotobuf (c:\\users\\archita shrivastava\\anaconda3\\lib\\site-packages)\n",
      "WARNING: Ignoring invalid distribution -andas (c:\\users\\archita shrivastava\\anaconda3\\lib\\site-packages)\n",
      "WARNING: Ignoring invalid distribution -rotobuf (c:\\users\\archita shrivastava\\anaconda3\\lib\\site-packages)\n",
      "WARNING: Ignoring invalid distribution -andas (c:\\users\\archita shrivastava\\anaconda3\\lib\\site-packages)\n",
      "WARNING: Ignoring invalid distribution -rotobuf (c:\\users\\archita shrivastava\\anaconda3\\lib\\site-packages)\n",
      "WARNING: Ignoring invalid distribution -andas (c:\\users\\archita shrivastava\\anaconda3\\lib\\site-packages)\n",
      "WARNING: Ignoring invalid distribution -rotobuf (c:\\users\\archita shrivastava\\anaconda3\\lib\\site-packages)\n",
      "WARNING: Ignoring invalid distribution -andas (c:\\users\\archita shrivastava\\anaconda3\\lib\\site-packages)\n"
     ]
    }
   ],
   "source": [
    "%pip install ultralytics\n",
    "\n"
   ]
  },
  {
   "cell_type": "code",
   "execution_count": 2,
   "id": "b6b41db2",
   "metadata": {},
   "outputs": [],
   "source": [
    "import cv2\n",
    "import pandas as pd\n",
    "import numpy as np\n",
    "from ultralytics import YOLO"
   ]
  },
  {
   "cell_type": "code",
   "execution_count": 3,
   "id": "4e250ede",
   "metadata": {},
   "outputs": [],
   "source": [
    "model = YOLO('yolov8s.pt')"
   ]
  },
  {
   "cell_type": "code",
   "execution_count": 4,
   "id": "9a2aa9f1",
   "metadata": {},
   "outputs": [],
   "source": [
    "def RGB(event, x, y, flags, param):\n",
    "    if event == cv2.EVENT_MOUSEMOVE :\n",
    "        colorsBGR = [x,y]\n",
    "        print(colorsBGR)\n",
    "cv2.namedWindow('RGB')\n",
    "cv2.setMouseCallback('RGB', RGB)\n",
    "\n",
    "CAP = cv2.VideoCapture('vidyolov8.mp4')"
   ]
  },
  {
   "cell_type": "code",
   "execution_count": 5,
   "id": "84fa0329",
   "metadata": {},
   "outputs": [
    {
     "name": "stderr",
     "output_type": "stream",
     "text": [
      "[NbConvertApp] Converting notebook tracker.ipynb to script\n",
      "[NbConvertApp] Writing 2437 bytes to tracker.py\n"
     ]
    }
   ],
   "source": [
    "!jupyter nbconvert --to script tracker.ipynb\n"
   ]
  },
  {
   "cell_type": "code",
   "execution_count": null,
   "id": "08420572",
   "metadata": {},
   "outputs": [],
   "source": [
    "import cv2\n",
    "from ultralytics import YOLO\n",
    "import numpy as np  \n",
    "import importlib\n",
    "import tracker\n",
    "importlib.reload(tracker)\n",
    "\n",
    "# Store unique car IDs that entered the polygon\n",
    "area_c = set()\n",
    "\n",
    "# Load YOLOv8 model\n",
    "model = YOLO('yolov8n.pt')\n",
    "\n",
    "# Load COCO class names\n",
    "with open(\"coco.txt\", \"r\") as f:\n",
    "    CLASS_NAMES = [line.strip() for line in f.readlines()]\n",
    "\n",
    "# Load video\n",
    "video_path = r\"C:\\Users\\Archita Shrivastava\\Downloads\\vidyolov8\\vidyolov8.mp4\"\n",
    "cap = cv2.VideoCapture(video_path)\n",
    "\n",
    "while cap.isOpened():\n",
    "    ret, frame = cap.read()\n",
    "    if not ret:\n",
    "        break\n",
    "\n",
    "    frame_height, frame_width = frame.shape[:2]\n",
    "    box_width = 700\n",
    "    box_height = 180\n",
    "    center_x = frame_width // 2\n",
    "    center_y = frame_height // 2\n",
    "\n",
    "    # Define central polygon (ROI)\n",
    "    area = [\n",
    "        [center_x - box_width // 2, center_y - box_height // 2],\n",
    "        [center_x + box_width // 2, center_y - box_height // 2],\n",
    "        [center_x + box_width // 2, center_y + box_height // 2],\n",
    "        [center_x - box_width // 2, center_y + box_height // 2]\n",
    "    ]\n",
    "\n",
    "    # Run YOLOv8 detection\n",
    "    results = model.predict(frame, verbose=False)\n",
    "    car_boxes = []\n",
    "\n",
    "    for result in results:\n",
    "        boxes = result.boxes.xyxy.cpu().numpy()\n",
    "        class_ids = result.boxes.cls.cpu().numpy()\n",
    "        confidences = result.boxes.conf.cpu().numpy()\n",
    "\n",
    "        for box, cls_id, conf in zip(boxes, class_ids, confidences):\n",
    "            class_name = CLASS_NAMES[int(cls_id)]\n",
    "\n",
    "            # Keep only cars\n",
    "            if class_name == \"car\":\n",
    "                x1, y1, x2, y2 = map(int, box)\n",
    "                car_boxes.append([x1, y1, x2, y2])\n",
    "\n",
    "    # Track cars using your tracker\n",
    "    tracked_cars = tracker.update(car_boxes)\n",
    "\n",
    "    for bbox in tracked_cars:\n",
    "        x1, y1, x2, y2, car_id = bbox\n",
    "        cx = int((x1 + x2) / 2)\n",
    "        cy = int((y1 + y2) / 2)\n",
    "\n",
    "        # Check if center of the car is inside the polygon\n",
    "        if cv2.pointPolygonTest(np.array(area, np.int32), (cx, cy), False) >= 0:\n",
    "            # Draw center dot\n",
    "            cv2.circle(frame, (cx, cy), 4, (0, 0, 255), -1)\n",
    "\n",
    "            # Draw bounding box and ID\n",
    "            cv2.rectangle(frame, (x1, y1), (x2, y2), (0, 255, 255), 2)\n",
    "            cv2.putText(frame, f'Car ID: {car_id}', (x1, y1 - 10),\n",
    "                        cv2.FONT_HERSHEY_COMPLEX, 0.5, (255, 0, 0), 2)\n",
    "\n",
    "            # Add to set of counted cars\n",
    "            area_c.add(car_id)\n",
    "\n",
    "    # Draw the ROI\n",
    "    cv2.polylines(frame, [np.array(area, np.int32)], True, (0, 0, 255), 3)\n",
    "\n",
    "    # Show count of unique cars inside\n",
    "    count = len(area_c)\n",
    "    cv2.putText(frame, f\"Cars in area: {count}\", (30, 30),\n",
    "                cv2.FONT_HERSHEY_COMPLEX, 0.5, (255, 0, 255), 2)\n",
    "\n",
    "    # Display\n",
    "    cv2.imshow(\"Car Detection in Region\", frame)\n",
    "    if cv2.waitKey(1) == 27:  # ESC key\n",
    "        break\n",
    "\n",
    "cap.release()\n",
    "cv2.destroyAllWindows()\n"
   ]
  },
  {
   "cell_type": "code",
   "execution_count": null,
   "id": "36a9a8f8",
   "metadata": {},
   "outputs": [],
   "source": []
  }
 ],
 "metadata": {
  "kernelspec": {
   "display_name": "Python 3 (ipykernel)",
   "language": "python",
   "name": "python3"
  },
  "language_info": {
   "codemirror_mode": {
    "name": "ipython",
    "version": 3
   },
   "file_extension": ".py",
   "mimetype": "text/x-python",
   "name": "python",
   "nbconvert_exporter": "python",
   "pygments_lexer": "ipython3",
   "version": "3.10.9"
  }
 },
 "nbformat": 4,
 "nbformat_minor": 5
}
